{
 "cells": [
  {
   "cell_type": "markdown",
   "id": "8d5eadb9",
   "metadata": {},
   "source": [
    "QUESTION NO 1\n",
    "The Datatypes are\n",
    "5   int32\n",
    "5.o Double\n",
    "5>1 Boolean\n",
    "\"5\" String\n",
    "5*2 int32\n",
    "\"5*2\" string\n",
    "'5' +'2' string\n",
    "5/2 int32\n",
    "5%2 Double\n",
    "{5,2,1} list\n",
    "5==3  Boolean\n",
    "pi(the number) double"
   ]
  },
  {
   "cell_type": "markdown",
   "id": "eca484f8",
   "metadata": {},
   "source": [
    "QUESTION NO 6 ANSWER"
   ]
  },
  {
   "cell_type": "code",
   "execution_count": 1,
   "id": "9f935d7e",
   "metadata": {},
   "outputs": [
    {
     "data": {
      "text/plain": [
       "'encilpay'"
      ]
     },
     "execution_count": 1,
     "metadata": {},
     "output_type": "execute_result"
    }
   ],
   "source": [
    "def pig(x):\n",
    "    vowel =['a','e','i','o','u']\n",
    "    y = ''\n",
    "    if x[0].lower() in vowel:\n",
    "       y=x+'way'\n",
    "       return y\n",
    "    else: \n",
    "        y=x[1:]+x[0]+'ay'\n",
    "        return y\n",
    "pig('happy')\n",
    "pig('pencil')"
   ]
  },
  {
   "cell_type": "markdown",
   "id": "b5dc758e",
   "metadata": {},
   "source": [
    "QUESTION NO 7 ANSWER"
   ]
  },
  {
   "cell_type": "code",
   "execution_count": 20,
   "id": "0bfc896d",
   "metadata": {},
   "outputs": [
    {
     "name": "stdout",
     "output_type": "stream",
     "text": [
      "There are  15 Patients of blood type A\n",
      "There are  1 Patients of blood type B\n",
      "There are  13 Patients of blood type AB\n",
      "There are  15 Patients of blood type O\n",
      "There are  0 Patients of blood type OO\n"
     ]
    }
   ],
   "source": [
    "def bloodtype(x):\n",
    "    f = open(x,\"r\")\n",
    "    file_words=f.read().split()\n",
    "    count_A,count_B,count_AB,count_O,count_OO=0,0,0,0,0\n",
    "    for i in file_words:\n",
    "        if i =='A':\n",
    "            count_A+=1\n",
    "        elif i =='B':\n",
    "            count_B+=1\n",
    "        elif i=='AB':\n",
    "            count_AB+=1\n",
    "        elif i=='O':\n",
    "            count_O+=1\n",
    "        else:\n",
    "            count_OO+=1\n",
    "    print(\"There are \",count_A,\"Patients of blood type A\" )\n",
    "    print(\"There are \",count_B,\"Patients of blood type B\" )\n",
    "    print(\"There are \",count_AB,\"Patients of blood type AB\" )\n",
    "    print(\"There are \",count_O,\"Patients of blood type O\" )\n",
    "    print(\"There are \",count_OO,\"Patients of blood type OO\" )  \n",
    "\n",
    "bloodtype(\"bloodtype1.txt\")\n",
    "    \n",
    "    "
   ]
  },
  {
   "cell_type": "markdown",
   "id": "81747b93",
   "metadata": {},
   "source": [
    "QUESTION NO 8 ANSWER"
   ]
  },
  {
   "cell_type": "code",
   "execution_count": 2,
   "id": "8b2603e0",
   "metadata": {},
   "outputs": [
    {
     "data": {
      "text/plain": [
       "1.241401"
      ]
     },
     "execution_count": 2,
     "metadata": {},
     "output_type": "execute_result"
    }
   ],
   "source": [
    "def curconv(x,y):\n",
    "    f = open(\"currencies.txt\",\"r\")\n",
    "    g = f.readlines()\n",
    "    list1=[]\n",
    "    list2=[]\n",
    "    list3=[]\n",
    "    f.close()\n",
    "    for i in g:\n",
    "        j=0\n",
    "        k=i.split('\\t')\n",
    "        for j in range(len(k)-2):\n",
    "            list1.append(k[j])\n",
    "            list2.append(float(k[j+1]))\n",
    "            list3.append(k[j+2].strip())\n",
    "    h=list1.index(x)\n",
    "    return y*list2[h]\n",
    "curconv(\"EUR\",100)\n",
    "curconv(\"JPY\" ,100)\n",
    " \n",
    "    "
   ]
  },
  {
   "cell_type": "markdown",
   "id": "c2ee86fc",
   "metadata": {},
   "source": [
    "QUESTION NO 10 ANSWER"
   ]
  },
  {
   "cell_type": "code",
   "execution_count": 3,
   "id": "0b2bef92",
   "metadata": {},
   "outputs": [
    {
     "name": "stdout",
     "output_type": "stream",
     "text": [
      "[1, 1, 1, 3, 5, 1, 1, 2, 1, 0, 1, 0, 1, 4, 0, 1, 2, 0, 2, 1, 0, 1, 1, 0, 0]\n",
      "[1, 0, 0, 0, 1, 0, 0, 0, 0, 0, 0, 1, 0, 0, 2, 0, 0, 0, 0, 0, 0, 0, 0, 0, 0]\n"
     ]
    }
   ],
   "source": [
    "def frequencies(text):\n",
    "    alphabets=('a','b','c','d','e','f','g','h','i','j','k','l','m','o','p','q','r','s','t','u','v','w','x','y','z')\n",
    "    total_characters =[]\n",
    "    alpha_dict = {}\n",
    "    for word in text:\n",
    "         for char in word:\n",
    "            if char.isalpha():\n",
    "                total_characters.append(char)\n",
    "    for char in alphabets:\n",
    "        if char in total_characters:\n",
    "            alpha_dict[char] = total_characters.count(char)\n",
    "        else:\n",
    "            alpha_dict[char]=0\n",
    "     \n",
    "    print(list(alpha_dict.values()))\n",
    "    \n",
    "    \n",
    "frequencies(\"The quick red fox got bored and went home\")\n",
    "frequencies(\"apple\")\n",
    "            "
   ]
  },
  {
   "cell_type": "markdown",
   "id": "d7229536",
   "metadata": {},
   "source": [
    "QUESTION NO 9 ANSWER"
   ]
  },
  {
   "cell_type": "code",
   "execution_count": 4,
   "id": "cc9962d4",
   "metadata": {},
   "outputs": [
    {
     "ename": "TypeError",
     "evalue": "unsupported operand type(s) for +: 'int' and 'str'",
     "output_type": "error",
     "traceback": [
      "\u001b[1;31m---------------------------------------------------------------------------\u001b[0m",
      "\u001b[1;31mTypeError\u001b[0m                                 Traceback (most recent call last)",
      "Input \u001b[1;32mIn [4]\u001b[0m, in \u001b[0;36m<cell line: 1>\u001b[1;34m()\u001b[0m\n\u001b[1;32m----> 1\u001b[0m \u001b[38;5;28mprint\u001b[39m(\u001b[38;5;241;43m6\u001b[39;49m\u001b[38;5;241;43m+\u001b[39;49m\u001b[38;5;124;43m'\u001b[39;49m\u001b[38;5;124;43ma\u001b[39;49m\u001b[38;5;124;43m'\u001b[39;49m)\n",
      "\u001b[1;31mTypeError\u001b[0m: unsupported operand type(s) for +: 'int' and 'str'"
     ]
    }
   ],
   "source": [
    "print(6+'a')\n"
   ]
  },
  {
   "cell_type": "markdown",
   "id": "c12bc251",
   "metadata": {},
   "source": [
    "It is not possible to add an integer and a string\n",
    "QUESTION\n",
    "Referring to the 12th item of a list that has only 10 \n",
    "item \n",
    "ERROR : out of index\n",
    "QUESTION\n",
    "Using a value that is out ofrange for a function’s \n",
    "input, such as calling math.sqrt(-1.0)\n",
    "ERROR : Domain error\n",
    "QUESTION\n",
    "Using an undeclared variable, such as print(x)\n",
    "when x has not been define\n",
    "ERROR: Variable is not defined\n",
    "QUESTION\n",
    "Trying to open a file that does not exist, such as \n",
    "mistyping the file name or looking in the wrong \n",
    "directory\n",
    "ERROR: Directory is not found"
   ]
  },
  {
   "cell_type": "markdown",
   "id": "54286f53",
   "metadata": {},
   "source": [
    "QUESTION NO 3 ANSWER"
   ]
  },
  {
   "cell_type": "markdown",
   "id": "5c2d8e1b",
   "metadata": {},
   "source": [
    "using System;\n",
    "\t\t\t\t\t\n",
    "public class AreaofTriangle\n",
    "{\n",
    "\tpublic static void Main()\n",
    "\t{\n",
    "\t\tint lengtha =2,lengthb= 2, lengthc=2;\n",
    "\t\tConsole.Writeline($\"Value of lengtha ={lengtha},lengthb= {lengthb} and lengthc = {lengthc}\");\n",
    "\t\tdouble semiperimeter = (lengtha + lengthb + lengthc)/2;\n",
    "\t\tdouble Area = Math.Sqrt(semiperimeter*(semiperimeter-lengtha) * (semiperimeter-lengthb)*(semiperimeter-lengthc))\n",
    "\t\tConsole.WriteLine(\"Area of a triangle =  \"+ Area);\n",
    "\t\tConsole.Readkey();\n",
    "\n",
    "\t} \n",
    "}"
   ]
  }
 ],
 "metadata": {
  "kernelspec": {
   "display_name": "Python 3 (ipykernel)",
   "language": "python",
   "name": "python3"
  },
  "language_info": {
   "codemirror_mode": {
    "name": "ipython",
    "version": 3
   },
   "file_extension": ".py",
   "mimetype": "text/x-python",
   "name": "python",
   "nbconvert_exporter": "python",
   "pygments_lexer": "ipython3",
   "version": "3.9.12"
  }
 },
 "nbformat": 4,
 "nbformat_minor": 5
}
